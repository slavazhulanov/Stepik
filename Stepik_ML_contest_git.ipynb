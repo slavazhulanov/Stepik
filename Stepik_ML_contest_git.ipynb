{
  "nbformat": 4,
  "nbformat_minor": 0,
  "metadata": {
    "kernelspec": {
      "display_name": "Python 3",
      "language": "python",
      "name": "python3"
    },
    "language_info": {
      "codemirror_mode": {
        "name": "ipython",
        "version": 3
      },
      "file_extension": ".py",
      "mimetype": "text/x-python",
      "name": "python",
      "nbconvert_exporter": "python",
      "pygments_lexer": "ipython3",
      "version": "3.8.5"
    },
    "colab": {
      "name": "Stepik ML contest git.ipynb",
      "provenance": []
    }
  },
  "cells": [
    {
      "cell_type": "code",
      "metadata": {
        "id": "cZMhvPJcD4IS"
      },
      "source": [
        "import pandas as pd\n",
        "import numpy as np\n",
        "%matplotlib inline\n",
        "import matplotlib.pyplot as plt\n",
        "import seaborn as sns\n",
        "from sklearn import tree\n",
        "sns.set(rc={'figure.figsize':(9, 6)})"
      ],
      "execution_count": 1,
      "outputs": []
    },
    {
      "cell_type": "code",
      "metadata": {
        "colab": {
          "base_uri": "https://localhost:8080/",
          "height": 204
        },
        "id": "usr7nbj1D4IY",
        "outputId": "fcfc05a7-f795-4ede-ea39-9ac47147e66f"
      },
      "source": [
        "events_data = pd.read_csv('https://stepik.org/media/attachments/course/4852/event_data_train.zip')\n",
        "events_data.head()"
      ],
      "execution_count": 2,
      "outputs": [
        {
          "output_type": "execute_result",
          "data": {
            "text/html": [
              "<div>\n",
              "<style scoped>\n",
              "    .dataframe tbody tr th:only-of-type {\n",
              "        vertical-align: middle;\n",
              "    }\n",
              "\n",
              "    .dataframe tbody tr th {\n",
              "        vertical-align: top;\n",
              "    }\n",
              "\n",
              "    .dataframe thead th {\n",
              "        text-align: right;\n",
              "    }\n",
              "</style>\n",
              "<table border=\"1\" class=\"dataframe\">\n",
              "  <thead>\n",
              "    <tr style=\"text-align: right;\">\n",
              "      <th></th>\n",
              "      <th>step_id</th>\n",
              "      <th>timestamp</th>\n",
              "      <th>action</th>\n",
              "      <th>user_id</th>\n",
              "    </tr>\n",
              "  </thead>\n",
              "  <tbody>\n",
              "    <tr>\n",
              "      <th>0</th>\n",
              "      <td>32815</td>\n",
              "      <td>1434340848</td>\n",
              "      <td>viewed</td>\n",
              "      <td>17632</td>\n",
              "    </tr>\n",
              "    <tr>\n",
              "      <th>1</th>\n",
              "      <td>32815</td>\n",
              "      <td>1434340848</td>\n",
              "      <td>passed</td>\n",
              "      <td>17632</td>\n",
              "    </tr>\n",
              "    <tr>\n",
              "      <th>2</th>\n",
              "      <td>32815</td>\n",
              "      <td>1434340848</td>\n",
              "      <td>discovered</td>\n",
              "      <td>17632</td>\n",
              "    </tr>\n",
              "    <tr>\n",
              "      <th>3</th>\n",
              "      <td>32811</td>\n",
              "      <td>1434340895</td>\n",
              "      <td>discovered</td>\n",
              "      <td>17632</td>\n",
              "    </tr>\n",
              "    <tr>\n",
              "      <th>4</th>\n",
              "      <td>32811</td>\n",
              "      <td>1434340895</td>\n",
              "      <td>viewed</td>\n",
              "      <td>17632</td>\n",
              "    </tr>\n",
              "  </tbody>\n",
              "</table>\n",
              "</div>"
            ],
            "text/plain": [
              "   step_id   timestamp      action  user_id\n",
              "0    32815  1434340848      viewed    17632\n",
              "1    32815  1434340848      passed    17632\n",
              "2    32815  1434340848  discovered    17632\n",
              "3    32811  1434340895  discovered    17632\n",
              "4    32811  1434340895      viewed    17632"
            ]
          },
          "metadata": {},
          "execution_count": 2
        }
      ]
    },
    {
      "cell_type": "code",
      "metadata": {
        "colab": {
          "base_uri": "https://localhost:8080/",
          "height": 204
        },
        "id": "asL3XjdzD4IZ",
        "outputId": "a0f92103-cc83-45de-a7a0-efee2897205f"
      },
      "source": [
        "submissions_data = pd.read_csv('https://stepik.org/media/attachments/course/4852/submissions_data_train.zip')\n",
        "submissions_data.head()"
      ],
      "execution_count": 3,
      "outputs": [
        {
          "output_type": "execute_result",
          "data": {
            "text/html": [
              "<div>\n",
              "<style scoped>\n",
              "    .dataframe tbody tr th:only-of-type {\n",
              "        vertical-align: middle;\n",
              "    }\n",
              "\n",
              "    .dataframe tbody tr th {\n",
              "        vertical-align: top;\n",
              "    }\n",
              "\n",
              "    .dataframe thead th {\n",
              "        text-align: right;\n",
              "    }\n",
              "</style>\n",
              "<table border=\"1\" class=\"dataframe\">\n",
              "  <thead>\n",
              "    <tr style=\"text-align: right;\">\n",
              "      <th></th>\n",
              "      <th>step_id</th>\n",
              "      <th>timestamp</th>\n",
              "      <th>submission_status</th>\n",
              "      <th>user_id</th>\n",
              "    </tr>\n",
              "  </thead>\n",
              "  <tbody>\n",
              "    <tr>\n",
              "      <th>0</th>\n",
              "      <td>31971</td>\n",
              "      <td>1434349275</td>\n",
              "      <td>correct</td>\n",
              "      <td>15853</td>\n",
              "    </tr>\n",
              "    <tr>\n",
              "      <th>1</th>\n",
              "      <td>31972</td>\n",
              "      <td>1434348300</td>\n",
              "      <td>correct</td>\n",
              "      <td>15853</td>\n",
              "    </tr>\n",
              "    <tr>\n",
              "      <th>2</th>\n",
              "      <td>31972</td>\n",
              "      <td>1478852149</td>\n",
              "      <td>wrong</td>\n",
              "      <td>15853</td>\n",
              "    </tr>\n",
              "    <tr>\n",
              "      <th>3</th>\n",
              "      <td>31972</td>\n",
              "      <td>1478852164</td>\n",
              "      <td>correct</td>\n",
              "      <td>15853</td>\n",
              "    </tr>\n",
              "    <tr>\n",
              "      <th>4</th>\n",
              "      <td>31976</td>\n",
              "      <td>1434348123</td>\n",
              "      <td>wrong</td>\n",
              "      <td>15853</td>\n",
              "    </tr>\n",
              "  </tbody>\n",
              "</table>\n",
              "</div>"
            ],
            "text/plain": [
              "   step_id   timestamp submission_status  user_id\n",
              "0    31971  1434349275           correct    15853\n",
              "1    31972  1434348300           correct    15853\n",
              "2    31972  1478852149             wrong    15853\n",
              "3    31972  1478852164           correct    15853\n",
              "4    31976  1434348123             wrong    15853"
            ]
          },
          "metadata": {},
          "execution_count": 3
        }
      ]
    },
    {
      "cell_type": "code",
      "metadata": {
        "colab": {
          "base_uri": "https://localhost:8080/"
        },
        "id": "-LpBArIKD4Ib",
        "outputId": "2f926290-90d4-4b77-c398-9dc8cf156ad4"
      },
      "source": [
        "events_data.action.unique()"
      ],
      "execution_count": 5,
      "outputs": [
        {
          "output_type": "execute_result",
          "data": {
            "text/plain": [
              "array(['viewed', 'passed', 'discovered', 'started_attempt'], dtype=object)"
            ]
          },
          "metadata": {},
          "execution_count": 5
        }
      ]
    },
    {
      "cell_type": "code",
      "metadata": {
        "colab": {
          "base_uri": "https://localhost:8080/",
          "height": 204
        },
        "id": "kRdMMkASD4Ic",
        "outputId": "4a8ba3d5-147f-428e-cabc-f21083dff9d4"
      },
      "source": [
        "events_data['date'] = pd.to_datetime(events_data.timestamp, unit='s')\n",
        "events_data['day'] = events_data.date.dt.date\n",
        "events_data.head()"
      ],
      "execution_count": 6,
      "outputs": [
        {
          "output_type": "execute_result",
          "data": {
            "text/html": [
              "<div>\n",
              "<style scoped>\n",
              "    .dataframe tbody tr th:only-of-type {\n",
              "        vertical-align: middle;\n",
              "    }\n",
              "\n",
              "    .dataframe tbody tr th {\n",
              "        vertical-align: top;\n",
              "    }\n",
              "\n",
              "    .dataframe thead th {\n",
              "        text-align: right;\n",
              "    }\n",
              "</style>\n",
              "<table border=\"1\" class=\"dataframe\">\n",
              "  <thead>\n",
              "    <tr style=\"text-align: right;\">\n",
              "      <th></th>\n",
              "      <th>step_id</th>\n",
              "      <th>timestamp</th>\n",
              "      <th>action</th>\n",
              "      <th>user_id</th>\n",
              "      <th>date</th>\n",
              "      <th>day</th>\n",
              "    </tr>\n",
              "  </thead>\n",
              "  <tbody>\n",
              "    <tr>\n",
              "      <th>0</th>\n",
              "      <td>32815</td>\n",
              "      <td>1434340848</td>\n",
              "      <td>viewed</td>\n",
              "      <td>17632</td>\n",
              "      <td>2015-06-15 04:00:48</td>\n",
              "      <td>2015-06-15</td>\n",
              "    </tr>\n",
              "    <tr>\n",
              "      <th>1</th>\n",
              "      <td>32815</td>\n",
              "      <td>1434340848</td>\n",
              "      <td>passed</td>\n",
              "      <td>17632</td>\n",
              "      <td>2015-06-15 04:00:48</td>\n",
              "      <td>2015-06-15</td>\n",
              "    </tr>\n",
              "    <tr>\n",
              "      <th>2</th>\n",
              "      <td>32815</td>\n",
              "      <td>1434340848</td>\n",
              "      <td>discovered</td>\n",
              "      <td>17632</td>\n",
              "      <td>2015-06-15 04:00:48</td>\n",
              "      <td>2015-06-15</td>\n",
              "    </tr>\n",
              "    <tr>\n",
              "      <th>3</th>\n",
              "      <td>32811</td>\n",
              "      <td>1434340895</td>\n",
              "      <td>discovered</td>\n",
              "      <td>17632</td>\n",
              "      <td>2015-06-15 04:01:35</td>\n",
              "      <td>2015-06-15</td>\n",
              "    </tr>\n",
              "    <tr>\n",
              "      <th>4</th>\n",
              "      <td>32811</td>\n",
              "      <td>1434340895</td>\n",
              "      <td>viewed</td>\n",
              "      <td>17632</td>\n",
              "      <td>2015-06-15 04:01:35</td>\n",
              "      <td>2015-06-15</td>\n",
              "    </tr>\n",
              "  </tbody>\n",
              "</table>\n",
              "</div>"
            ],
            "text/plain": [
              "   step_id   timestamp      action  user_id                date         day\n",
              "0    32815  1434340848      viewed    17632 2015-06-15 04:00:48  2015-06-15\n",
              "1    32815  1434340848      passed    17632 2015-06-15 04:00:48  2015-06-15\n",
              "2    32815  1434340848  discovered    17632 2015-06-15 04:00:48  2015-06-15\n",
              "3    32811  1434340895  discovered    17632 2015-06-15 04:01:35  2015-06-15\n",
              "4    32811  1434340895      viewed    17632 2015-06-15 04:01:35  2015-06-15"
            ]
          },
          "metadata": {},
          "execution_count": 6
        }
      ]
    },
    {
      "cell_type": "code",
      "metadata": {
        "colab": {
          "base_uri": "https://localhost:8080/",
          "height": 628
        },
        "id": "9EhYHaEdD4If",
        "outputId": "85dd4784-9292-4300-fa9e-22e40885d43f"
      },
      "source": [
        "events_data.groupby('day').user_id.nunique().plot(figsize=(20,10))"
      ],
      "execution_count": 7,
      "outputs": [
        {
          "output_type": "execute_result",
          "data": {
            "text/plain": [
              "<matplotlib.axes._subplots.AxesSubplot at 0x7f4a170fec10>"
            ]
          },
          "metadata": {},
          "execution_count": 7
        },
        {
          "output_type": "display_data",
          "data": {
            "image/png": "[encoded data removed]",
            "text/plain": [
              "<Figure size 1440x720 with 1 Axes>"
            ]
          },
          "metadata": {
            "needs_background": "light"
          }
        }
      ]
    },
    {
      "cell_type": "code",
      "metadata": {
        "id": "d8rH69yHD4Ih"
      },
      "source": [
        "users_events_data = events_data.pivot_table(index='user_id', \n",
        "                                            columns='action', \n",
        "                                            values='step_id', \n",
        "                                            aggfunc='count', \n",
        "                                            fill_value=0).reset_index()"
      ],
      "execution_count": 8,
      "outputs": []
    },
    {
      "cell_type": "code",
      "metadata": {
        "colab": {
          "base_uri": "https://localhost:8080/",
          "height": 204
        },
        "id": "RYLjkULdD4Ii",
        "outputId": "8b8f3ffb-0dca-47fc-df8a-312f82155fc4"
      },
      "source": [
        "users_events_data.head()"
      ],
      "execution_count": 9,
      "outputs": [
        {
          "output_type": "execute_result",
          "data": {
            "text/html": [
              "<div>\n",
              "<style scoped>\n",
              "    .dataframe tbody tr th:only-of-type {\n",
              "        vertical-align: middle;\n",
              "    }\n",
              "\n",
              "    .dataframe tbody tr th {\n",
              "        vertical-align: top;\n",
              "    }\n",
              "\n",
              "    .dataframe thead th {\n",
              "        text-align: right;\n",
              "    }\n",
              "</style>\n",
              "<table border=\"1\" class=\"dataframe\">\n",
              "  <thead>\n",
              "    <tr style=\"text-align: right;\">\n",
              "      <th>action</th>\n",
              "      <th>user_id</th>\n",
              "      <th>discovered</th>\n",
              "      <th>passed</th>\n",
              "      <th>started_attempt</th>\n",
              "      <th>viewed</th>\n",
              "    </tr>\n",
              "  </thead>\n",
              "  <tbody>\n",
              "    <tr>\n",
              "      <th>0</th>\n",
              "      <td>1</td>\n",
              "      <td>1</td>\n",
              "      <td>0</td>\n",
              "      <td>0</td>\n",
              "      <td>1</td>\n",
              "    </tr>\n",
              "    <tr>\n",
              "      <th>1</th>\n",
              "      <td>2</td>\n",
              "      <td>9</td>\n",
              "      <td>9</td>\n",
              "      <td>2</td>\n",
              "      <td>10</td>\n",
              "    </tr>\n",
              "    <tr>\n",
              "      <th>2</th>\n",
              "      <td>3</td>\n",
              "      <td>91</td>\n",
              "      <td>87</td>\n",
              "      <td>30</td>\n",
              "      <td>192</td>\n",
              "    </tr>\n",
              "    <tr>\n",
              "      <th>3</th>\n",
              "      <td>5</td>\n",
              "      <td>11</td>\n",
              "      <td>11</td>\n",
              "      <td>4</td>\n",
              "      <td>12</td>\n",
              "    </tr>\n",
              "    <tr>\n",
              "      <th>4</th>\n",
              "      <td>7</td>\n",
              "      <td>1</td>\n",
              "      <td>1</td>\n",
              "      <td>0</td>\n",
              "      <td>1</td>\n",
              "    </tr>\n",
              "  </tbody>\n",
              "</table>\n",
              "</div>"
            ],
            "text/plain": [
              "action  user_id  discovered  passed  started_attempt  viewed\n",
              "0             1           1       0                0       1\n",
              "1             2           9       9                2      10\n",
              "2             3          91      87               30     192\n",
              "3             5          11      11                4      12\n",
              "4             7           1       1                0       1"
            ]
          },
          "metadata": {},
          "execution_count": 9
        }
      ]
    },
    {
      "cell_type": "code",
      "metadata": {
        "colab": {
          "base_uri": "https://localhost:8080/",
          "height": 285
        },
        "id": "CWTTmZfFD4Ij",
        "outputId": "a3759417-e7ae-44ed-ed1d-a135d5f72671"
      },
      "source": [
        "users_events_data.discovered.hist()"
      ],
      "execution_count": 10,
      "outputs": [
        {
          "output_type": "execute_result",
          "data": {
            "text/plain": [
              "<matplotlib.axes._subplots.AxesSubplot at 0x7f4a16bb9790>"
            ]
          },
          "metadata": {},
          "execution_count": 10
        },
        {
          "output_type": "display_data",
          "data": {
            "image/png": "[encoded data removed]",
            "text/plain": [
              "<Figure size 432x288 with 1 Axes>"
            ]
          },
          "metadata": {
            "needs_background": "light"
          }
        }
      ]
    },
    {
      "cell_type": "code",
      "metadata": {
        "colab": {
          "base_uri": "https://localhost:8080/",
          "height": 204
        },
        "id": "K9x0iK33D4Ik",
        "outputId": "2bf8b255-97df-471d-e077-e25cba7f1303"
      },
      "source": [
        "submissions_data['date'] = pd.to_datetime(submissions_data.timestamp, unit='s')\n",
        "submissions_data['day'] = submissions_data.date.dt.date\n",
        "submissions_data.head()"
      ],
      "execution_count": 11,
      "outputs": [
        {
          "output_type": "execute_result",
          "data": {
            "text/html": [
              "<div>\n",
              "<style scoped>\n",
              "    .dataframe tbody tr th:only-of-type {\n",
              "        vertical-align: middle;\n",
              "    }\n",
              "\n",
              "    .dataframe tbody tr th {\n",
              "        vertical-align: top;\n",
              "    }\n",
              "\n",
              "    .dataframe thead th {\n",
              "        text-align: right;\n",
              "    }\n",
              "</style>\n",
              "<table border=\"1\" class=\"dataframe\">\n",
              "  <thead>\n",
              "    <tr style=\"text-align: right;\">\n",
              "      <th></th>\n",
              "      <th>step_id</th>\n",
              "      <th>timestamp</th>\n",
              "      <th>submission_status</th>\n",
              "      <th>user_id</th>\n",
              "      <th>date</th>\n",
              "      <th>day</th>\n",
              "    </tr>\n",
              "  </thead>\n",
              "  <tbody>\n",
              "    <tr>\n",
              "      <th>0</th>\n",
              "      <td>31971</td>\n",
              "      <td>1434349275</td>\n",
              "      <td>correct</td>\n",
              "      <td>15853</td>\n",
              "      <td>2015-06-15 06:21:15</td>\n",
              "      <td>2015-06-15</td>\n",
              "    </tr>\n",
              "    <tr>\n",
              "      <th>1</th>\n",
              "      <td>31972</td>\n",
              "      <td>1434348300</td>\n",
              "      <td>correct</td>\n",
              "      <td>15853</td>\n",
              "      <td>2015-06-15 06:05:00</td>\n",
              "      <td>2015-06-15</td>\n",
              "    </tr>\n",
              "    <tr>\n",
              "      <th>2</th>\n",
              "      <td>31972</td>\n",
              "      <td>1478852149</td>\n",
              "      <td>wrong</td>\n",
              "      <td>15853</td>\n",
              "      <td>2016-11-11 08:15:49</td>\n",
              "      <td>2016-11-11</td>\n",
              "    </tr>\n",
              "    <tr>\n",
              "      <th>3</th>\n",
              "      <td>31972</td>\n",
              "      <td>1478852164</td>\n",
              "      <td>correct</td>\n",
              "      <td>15853</td>\n",
              "      <td>2016-11-11 08:16:04</td>\n",
              "      <td>2016-11-11</td>\n",
              "    </tr>\n",
              "    <tr>\n",
              "      <th>4</th>\n",
              "      <td>31976</td>\n",
              "      <td>1434348123</td>\n",
              "      <td>wrong</td>\n",
              "      <td>15853</td>\n",
              "      <td>2015-06-15 06:02:03</td>\n",
              "      <td>2015-06-15</td>\n",
              "    </tr>\n",
              "  </tbody>\n",
              "</table>\n",
              "</div>"
            ],
            "text/plain": [
              "   step_id   timestamp  ...                date         day\n",
              "0    31971  1434349275  ... 2015-06-15 06:21:15  2015-06-15\n",
              "1    31972  1434348300  ... 2015-06-15 06:05:00  2015-06-15\n",
              "2    31972  1478852149  ... 2016-11-11 08:15:49  2016-11-11\n",
              "3    31972  1478852164  ... 2016-11-11 08:16:04  2016-11-11\n",
              "4    31976  1434348123  ... 2015-06-15 06:02:03  2015-06-15\n",
              "\n",
              "[5 rows x 6 columns]"
            ]
          },
          "metadata": {},
          "execution_count": 11
        }
      ]
    },
    {
      "cell_type": "code",
      "metadata": {
        "id": "UbzvCLfoD4Im"
      },
      "source": [
        "users_scores = submissions_data.pivot_table(index='user_id', \n",
        "                                            columns='submission_status', \n",
        "                                            values='step_id', \n",
        "                                            aggfunc='count', \n",
        "                                            fill_value=0).reset_index()"
      ],
      "execution_count": 12,
      "outputs": []
    },
    {
      "cell_type": "code",
      "metadata": {
        "colab": {
          "base_uri": "https://localhost:8080/",
          "height": 204
        },
        "id": "jgIJ-PuZD4In",
        "outputId": "a02b1018-5e94-4ef7-eaa0-208771fe768c"
      },
      "source": [
        "users_scores.head()"
      ],
      "execution_count": 13,
      "outputs": [
        {
          "output_type": "execute_result",
          "data": {
            "text/html": [
              "<div>\n",
              "<style scoped>\n",
              "    .dataframe tbody tr th:only-of-type {\n",
              "        vertical-align: middle;\n",
              "    }\n",
              "\n",
              "    .dataframe tbody tr th {\n",
              "        vertical-align: top;\n",
              "    }\n",
              "\n",
              "    .dataframe thead th {\n",
              "        text-align: right;\n",
              "    }\n",
              "</style>\n",
              "<table border=\"1\" class=\"dataframe\">\n",
              "  <thead>\n",
              "    <tr style=\"text-align: right;\">\n",
              "      <th>submission_status</th>\n",
              "      <th>user_id</th>\n",
              "      <th>correct</th>\n",
              "      <th>wrong</th>\n",
              "    </tr>\n",
              "  </thead>\n",
              "  <tbody>\n",
              "    <tr>\n",
              "      <th>0</th>\n",
              "      <td>2</td>\n",
              "      <td>2</td>\n",
              "      <td>0</td>\n",
              "    </tr>\n",
              "    <tr>\n",
              "      <th>1</th>\n",
              "      <td>3</td>\n",
              "      <td>29</td>\n",
              "      <td>23</td>\n",
              "    </tr>\n",
              "    <tr>\n",
              "      <th>2</th>\n",
              "      <td>5</td>\n",
              "      <td>2</td>\n",
              "      <td>2</td>\n",
              "    </tr>\n",
              "    <tr>\n",
              "      <th>3</th>\n",
              "      <td>8</td>\n",
              "      <td>9</td>\n",
              "      <td>21</td>\n",
              "    </tr>\n",
              "    <tr>\n",
              "      <th>4</th>\n",
              "      <td>14</td>\n",
              "      <td>0</td>\n",
              "      <td>1</td>\n",
              "    </tr>\n",
              "  </tbody>\n",
              "</table>\n",
              "</div>"
            ],
            "text/plain": [
              "submission_status  user_id  correct  wrong\n",
              "0                        2        2      0\n",
              "1                        3       29     23\n",
              "2                        5        2      2\n",
              "3                        8        9     21\n",
              "4                       14        0      1"
            ]
          },
          "metadata": {},
          "execution_count": 13
        }
      ]
    },
    {
      "cell_type": "code",
      "metadata": {
        "id": "JNwQpu8UD4Io"
      },
      "source": [
        "gap_data = events_data[['user_id', 'day', 'timestamp']].drop_duplicates(subset=['user_id', 'day']) \\\n",
        "                        .groupby('user_id')['timestamp'].apply(list).apply(np.diff).values"
      ],
      "execution_count": 14,
      "outputs": []
    },
    {
      "cell_type": "code",
      "metadata": {
        "id": "J4U65ZrGD4Ip"
      },
      "source": [
        "gap_data = pd.Series(np.concatenate(gap_data, axis=0))\n",
        "gap_data = gap_data / (24 * 60 * 60)"
      ],
      "execution_count": 15,
      "outputs": []
    },
    {
      "cell_type": "code",
      "metadata": {
        "colab": {
          "base_uri": "https://localhost:8080/",
          "height": 285
        },
        "id": "BYmeIRVED4Ip",
        "outputId": "1d487b26-9f5c-4c7b-c85b-eeebddaa7d92"
      },
      "source": [
        "gap_data[gap_data < 200].hist()"
      ],
      "execution_count": 16,
      "outputs": [
        {
          "output_type": "execute_result",
          "data": {
            "text/plain": [
              "<matplotlib.axes._subplots.AxesSubplot at 0x7f4a14881ad0>"
            ]
          },
          "metadata": {},
          "execution_count": 16
        },
        {
          "output_type": "display_data",
          "data": {
            "image/png": "[encoded data removed]",
            "text/plain": [
              "<Figure size 432x288 with 1 Axes>"
            ]
          },
          "metadata": {
            "needs_background": "light"
          }
        }
      ]
    },
    {
      "cell_type": "code",
      "metadata": {
        "colab": {
          "base_uri": "https://localhost:8080/"
        },
        "id": "LPNvH_OLD4Ir",
        "outputId": "8a052509-9020-4a43-bfd2-6f89d448b8f4"
      },
      "source": [
        "gap_data.quantile(0.95)"
      ],
      "execution_count": 17,
      "outputs": [
        {
          "output_type": "execute_result",
          "data": {
            "text/plain": [
              "59.760440972222156"
            ]
          },
          "metadata": {},
          "execution_count": 17
        }
      ]
    },
    {
      "cell_type": "code",
      "metadata": {
        "id": "yA8Rh6rwD4Is"
      },
      "source": [
        "treshold = 30 * 24 * 60 * 60"
      ],
      "execution_count": 18,
      "outputs": []
    },
    {
      "cell_type": "code",
      "metadata": {
        "id": "HrRST6x7D4It"
      },
      "source": [
        "users_data = events_data.groupby('user_id', as_index=False).agg({'timestamp': 'max'}) \\\n",
        "                        .rename(columns={'timestamp': 'last_timestamp'})"
      ],
      "execution_count": 19,
      "outputs": []
    },
    {
      "cell_type": "code",
      "metadata": {
        "colab": {
          "base_uri": "https://localhost:8080/",
          "height": 204
        },
        "id": "9VuAyXkoD4It",
        "outputId": "ccfe81c2-78dd-41f5-d811-7e0b91ae93f0"
      },
      "source": [
        "users_data['is_gone_user'] = (events_data['timestamp'].max() - users_data.last_timestamp) > treshold\n",
        "users_data.head()"
      ],
      "execution_count": 20,
      "outputs": [
        {
          "output_type": "execute_result",
          "data": {
            "text/html": [
              "<div>\n",
              "<style scoped>\n",
              "    .dataframe tbody tr th:only-of-type {\n",
              "        vertical-align: middle;\n",
              "    }\n",
              "\n",
              "    .dataframe tbody tr th {\n",
              "        vertical-align: top;\n",
              "    }\n",
              "\n",
              "    .dataframe thead th {\n",
              "        text-align: right;\n",
              "    }\n",
              "</style>\n",
              "<table border=\"1\" class=\"dataframe\">\n",
              "  <thead>\n",
              "    <tr style=\"text-align: right;\">\n",
              "      <th></th>\n",
              "      <th>user_id</th>\n",
              "      <th>last_timestamp</th>\n",
              "      <th>is_gone_user</th>\n",
              "    </tr>\n",
              "  </thead>\n",
              "  <tbody>\n",
              "    <tr>\n",
              "      <th>0</th>\n",
              "      <td>1</td>\n",
              "      <td>1472827464</td>\n",
              "      <td>True</td>\n",
              "    </tr>\n",
              "    <tr>\n",
              "      <th>1</th>\n",
              "      <td>2</td>\n",
              "      <td>1519226966</td>\n",
              "      <td>True</td>\n",
              "    </tr>\n",
              "    <tr>\n",
              "      <th>2</th>\n",
              "      <td>3</td>\n",
              "      <td>1444581588</td>\n",
              "      <td>True</td>\n",
              "    </tr>\n",
              "    <tr>\n",
              "      <th>3</th>\n",
              "      <td>5</td>\n",
              "      <td>1499859939</td>\n",
              "      <td>True</td>\n",
              "    </tr>\n",
              "    <tr>\n",
              "      <th>4</th>\n",
              "      <td>7</td>\n",
              "      <td>1521634660</td>\n",
              "      <td>True</td>\n",
              "    </tr>\n",
              "  </tbody>\n",
              "</table>\n",
              "</div>"
            ],
            "text/plain": [
              "   user_id  last_timestamp  is_gone_user\n",
              "0        1      1472827464          True\n",
              "1        2      1519226966          True\n",
              "2        3      1444581588          True\n",
              "3        5      1499859939          True\n",
              "4        7      1521634660          True"
            ]
          },
          "metadata": {},
          "execution_count": 20
        }
      ]
    },
    {
      "cell_type": "code",
      "metadata": {
        "colab": {
          "base_uri": "https://localhost:8080/",
          "height": 204
        },
        "id": "flvtbQGxD4Iu",
        "outputId": "b778b49d-8ce1-4ab4-b2c2-4d1a94df4b22"
      },
      "source": [
        "users_data = users_data.merge(users_scores, on='user_id', how='outer').fillna(0)\n",
        "users_data.head()"
      ],
      "execution_count": 21,
      "outputs": [
        {
          "output_type": "execute_result",
          "data": {
            "text/html": [
              "<div>\n",
              "<style scoped>\n",
              "    .dataframe tbody tr th:only-of-type {\n",
              "        vertical-align: middle;\n",
              "    }\n",
              "\n",
              "    .dataframe tbody tr th {\n",
              "        vertical-align: top;\n",
              "    }\n",
              "\n",
              "    .dataframe thead th {\n",
              "        text-align: right;\n",
              "    }\n",
              "</style>\n",
              "<table border=\"1\" class=\"dataframe\">\n",
              "  <thead>\n",
              "    <tr style=\"text-align: right;\">\n",
              "      <th></th>\n",
              "      <th>user_id</th>\n",
              "      <th>last_timestamp</th>\n",
              "      <th>is_gone_user</th>\n",
              "      <th>correct</th>\n",
              "      <th>wrong</th>\n",
              "    </tr>\n",
              "  </thead>\n",
              "  <tbody>\n",
              "    <tr>\n",
              "      <th>0</th>\n",
              "      <td>1</td>\n",
              "      <td>1472827464</td>\n",
              "      <td>True</td>\n",
              "      <td>0.0</td>\n",
              "      <td>0.0</td>\n",
              "    </tr>\n",
              "    <tr>\n",
              "      <th>1</th>\n",
              "      <td>2</td>\n",
              "      <td>1519226966</td>\n",
              "      <td>True</td>\n",
              "      <td>2.0</td>\n",
              "      <td>0.0</td>\n",
              "    </tr>\n",
              "    <tr>\n",
              "      <th>2</th>\n",
              "      <td>3</td>\n",
              "      <td>1444581588</td>\n",
              "      <td>True</td>\n",
              "      <td>29.0</td>\n",
              "      <td>23.0</td>\n",
              "    </tr>\n",
              "    <tr>\n",
              "      <th>3</th>\n",
              "      <td>5</td>\n",
              "      <td>1499859939</td>\n",
              "      <td>True</td>\n",
              "      <td>2.0</td>\n",
              "      <td>2.0</td>\n",
              "    </tr>\n",
              "    <tr>\n",
              "      <th>4</th>\n",
              "      <td>7</td>\n",
              "      <td>1521634660</td>\n",
              "      <td>True</td>\n",
              "      <td>0.0</td>\n",
              "      <td>0.0</td>\n",
              "    </tr>\n",
              "  </tbody>\n",
              "</table>\n",
              "</div>"
            ],
            "text/plain": [
              "   user_id  last_timestamp  is_gone_user  correct  wrong\n",
              "0        1      1472827464          True      0.0    0.0\n",
              "1        2      1519226966          True      2.0    0.0\n",
              "2        3      1444581588          True     29.0   23.0\n",
              "3        5      1499859939          True      2.0    2.0\n",
              "4        7      1521634660          True      0.0    0.0"
            ]
          },
          "metadata": {},
          "execution_count": 21
        }
      ]
    },
    {
      "cell_type": "code",
      "metadata": {
        "id": "hWjn1OQMD4Iv"
      },
      "source": [
        "users_data = users_data.merge(users_events_data, on='user_id', how='outer').fillna(0)"
      ],
      "execution_count": 22,
      "outputs": []
    },
    {
      "cell_type": "code",
      "metadata": {
        "id": "nK5qOofED4Iw"
      },
      "source": [
        "days = events_data.groupby('user_id').day.nunique().to_frame().reset_index()"
      ],
      "execution_count": 23,
      "outputs": []
    },
    {
      "cell_type": "code",
      "metadata": {
        "id": "4aGjzRiAD4Ix"
      },
      "source": [
        "users_data = users_data.merge(days, on='user_id', how='outer')"
      ],
      "execution_count": 24,
      "outputs": []
    },
    {
      "cell_type": "code",
      "metadata": {
        "colab": {
          "base_uri": "https://localhost:8080/",
          "height": 204
        },
        "id": "qY7VIWSeD4Ix",
        "outputId": "24193018-52d9-4dd9-df12-52fa2d9ef510"
      },
      "source": [
        "users_data['passed_course'] = users_data.passed > 170\n",
        "users_data.head()"
      ],
      "execution_count": 25,
      "outputs": [
        {
          "output_type": "execute_result",
          "data": {
            "text/html": [
              "<div>\n",
              "<style scoped>\n",
              "    .dataframe tbody tr th:only-of-type {\n",
              "        vertical-align: middle;\n",
              "    }\n",
              "\n",
              "    .dataframe tbody tr th {\n",
              "        vertical-align: top;\n",
              "    }\n",
              "\n",
              "    .dataframe thead th {\n",
              "        text-align: right;\n",
              "    }\n",
              "</style>\n",
              "<table border=\"1\" class=\"dataframe\">\n",
              "  <thead>\n",
              "    <tr style=\"text-align: right;\">\n",
              "      <th></th>\n",
              "      <th>user_id</th>\n",
              "      <th>last_timestamp</th>\n",
              "      <th>is_gone_user</th>\n",
              "      <th>correct</th>\n",
              "      <th>wrong</th>\n",
              "      <th>discovered</th>\n",
              "      <th>passed</th>\n",
              "      <th>started_attempt</th>\n",
              "      <th>viewed</th>\n",
              "      <th>day</th>\n",
              "      <th>passed_course</th>\n",
              "    </tr>\n",
              "  </thead>\n",
              "  <tbody>\n",
              "    <tr>\n",
              "      <th>0</th>\n",
              "      <td>1</td>\n",
              "      <td>1472827464</td>\n",
              "      <td>True</td>\n",
              "      <td>0.0</td>\n",
              "      <td>0.0</td>\n",
              "      <td>1</td>\n",
              "      <td>0</td>\n",
              "      <td>0</td>\n",
              "      <td>1</td>\n",
              "      <td>1</td>\n",
              "      <td>False</td>\n",
              "    </tr>\n",
              "    <tr>\n",
              "      <th>1</th>\n",
              "      <td>2</td>\n",
              "      <td>1519226966</td>\n",
              "      <td>True</td>\n",
              "      <td>2.0</td>\n",
              "      <td>0.0</td>\n",
              "      <td>9</td>\n",
              "      <td>9</td>\n",
              "      <td>2</td>\n",
              "      <td>10</td>\n",
              "      <td>2</td>\n",
              "      <td>False</td>\n",
              "    </tr>\n",
              "    <tr>\n",
              "      <th>2</th>\n",
              "      <td>3</td>\n",
              "      <td>1444581588</td>\n",
              "      <td>True</td>\n",
              "      <td>29.0</td>\n",
              "      <td>23.0</td>\n",
              "      <td>91</td>\n",
              "      <td>87</td>\n",
              "      <td>30</td>\n",
              "      <td>192</td>\n",
              "      <td>7</td>\n",
              "      <td>False</td>\n",
              "    </tr>\n",
              "    <tr>\n",
              "      <th>3</th>\n",
              "      <td>5</td>\n",
              "      <td>1499859939</td>\n",
              "      <td>True</td>\n",
              "      <td>2.0</td>\n",
              "      <td>2.0</td>\n",
              "      <td>11</td>\n",
              "      <td>11</td>\n",
              "      <td>4</td>\n",
              "      <td>12</td>\n",
              "      <td>2</td>\n",
              "      <td>False</td>\n",
              "    </tr>\n",
              "    <tr>\n",
              "      <th>4</th>\n",
              "      <td>7</td>\n",
              "      <td>1521634660</td>\n",
              "      <td>True</td>\n",
              "      <td>0.0</td>\n",
              "      <td>0.0</td>\n",
              "      <td>1</td>\n",
              "      <td>1</td>\n",
              "      <td>0</td>\n",
              "      <td>1</td>\n",
              "      <td>1</td>\n",
              "      <td>False</td>\n",
              "    </tr>\n",
              "  </tbody>\n",
              "</table>\n",
              "</div>"
            ],
            "text/plain": [
              "   user_id  last_timestamp  is_gone_user  ...  viewed  day  passed_course\n",
              "0        1      1472827464          True  ...       1    1          False\n",
              "1        2      1519226966          True  ...      10    2          False\n",
              "2        3      1444581588          True  ...     192    7          False\n",
              "3        5      1499859939          True  ...      12    2          False\n",
              "4        7      1521634660          True  ...       1    1          False\n",
              "\n",
              "[5 rows x 11 columns]"
            ]
          },
          "metadata": {},
          "execution_count": 25
        }
      ]
    },
    {
      "cell_type": "code",
      "metadata": {
        "id": "SkCQoosgD4Iy"
      },
      "source": [
        "user_min_time = events_data.groupby('user_id', as_index=False) \\\n",
        "        .agg({'timestamp': 'min'}).rename({'timestamp': 'min_timestamp'}, axis=1)"
      ],
      "execution_count": 26,
      "outputs": []
    },
    {
      "cell_type": "code",
      "metadata": {
        "id": "qj_v26BuD4Iz"
      },
      "source": [
        "users_data = users_data.merge(user_min_time, how='outer')"
      ],
      "execution_count": 27,
      "outputs": []
    },
    {
      "cell_type": "code",
      "metadata": {
        "id": "ovveJtnLD4I0"
      },
      "source": [
        "learning_time_treshold = 3 * 24 * 60 * 60"
      ],
      "execution_count": 28,
      "outputs": []
    },
    {
      "cell_type": "code",
      "metadata": {
        "colab": {
          "base_uri": "https://localhost:8080/",
          "height": 204
        },
        "id": "uxPMMTnMD4I0",
        "outputId": "cb31fcc5-5570-4f01-e01f-4e9271398e94"
      },
      "source": [
        "events_data.head()"
      ],
      "execution_count": 29,
      "outputs": [
        {
          "output_type": "execute_result",
          "data": {
            "text/html": [
              "<div>\n",
              "<style scoped>\n",
              "    .dataframe tbody tr th:only-of-type {\n",
              "        vertical-align: middle;\n",
              "    }\n",
              "\n",
              "    .dataframe tbody tr th {\n",
              "        vertical-align: top;\n",
              "    }\n",
              "\n",
              "    .dataframe thead th {\n",
              "        text-align: right;\n",
              "    }\n",
              "</style>\n",
              "<table border=\"1\" class=\"dataframe\">\n",
              "  <thead>\n",
              "    <tr style=\"text-align: right;\">\n",
              "      <th></th>\n",
              "      <th>step_id</th>\n",
              "      <th>timestamp</th>\n",
              "      <th>action</th>\n",
              "      <th>user_id</th>\n",
              "      <th>date</th>\n",
              "      <th>day</th>\n",
              "    </tr>\n",
              "  </thead>\n",
              "  <tbody>\n",
              "    <tr>\n",
              "      <th>0</th>\n",
              "      <td>32815</td>\n",
              "      <td>1434340848</td>\n",
              "      <td>viewed</td>\n",
              "      <td>17632</td>\n",
              "      <td>2015-06-15 04:00:48</td>\n",
              "      <td>2015-06-15</td>\n",
              "    </tr>\n",
              "    <tr>\n",
              "      <th>1</th>\n",
              "      <td>32815</td>\n",
              "      <td>1434340848</td>\n",
              "      <td>passed</td>\n",
              "      <td>17632</td>\n",
              "      <td>2015-06-15 04:00:48</td>\n",
              "      <td>2015-06-15</td>\n",
              "    </tr>\n",
              "    <tr>\n",
              "      <th>2</th>\n",
              "      <td>32815</td>\n",
              "      <td>1434340848</td>\n",
              "      <td>discovered</td>\n",
              "      <td>17632</td>\n",
              "      <td>2015-06-15 04:00:48</td>\n",
              "      <td>2015-06-15</td>\n",
              "    </tr>\n",
              "    <tr>\n",
              "      <th>3</th>\n",
              "      <td>32811</td>\n",
              "      <td>1434340895</td>\n",
              "      <td>discovered</td>\n",
              "      <td>17632</td>\n",
              "      <td>2015-06-15 04:01:35</td>\n",
              "      <td>2015-06-15</td>\n",
              "    </tr>\n",
              "    <tr>\n",
              "      <th>4</th>\n",
              "      <td>32811</td>\n",
              "      <td>1434340895</td>\n",
              "      <td>viewed</td>\n",
              "      <td>17632</td>\n",
              "      <td>2015-06-15 04:01:35</td>\n",
              "      <td>2015-06-15</td>\n",
              "    </tr>\n",
              "  </tbody>\n",
              "</table>\n",
              "</div>"
            ],
            "text/plain": [
              "   step_id   timestamp      action  user_id                date         day\n",
              "0    32815  1434340848      viewed    17632 2015-06-15 04:00:48  2015-06-15\n",
              "1    32815  1434340848      passed    17632 2015-06-15 04:00:48  2015-06-15\n",
              "2    32815  1434340848  discovered    17632 2015-06-15 04:00:48  2015-06-15\n",
              "3    32811  1434340895  discovered    17632 2015-06-15 04:01:35  2015-06-15\n",
              "4    32811  1434340895      viewed    17632 2015-06-15 04:01:35  2015-06-15"
            ]
          },
          "metadata": {},
          "execution_count": 29
        }
      ]
    },
    {
      "cell_type": "code",
      "metadata": {
        "id": "8RFtkKDzD4I1"
      },
      "source": [
        "user_events = events_data.merge(users_data[['user_id', 'min_timestamp']], on='user_id', how='outer')\n",
        "events_data_train = user_events[user_events.timestamp <= (user_events.min_timestamp + learning_time_treshold)]"
      ],
      "execution_count": 30,
      "outputs": []
    },
    {
      "cell_type": "code",
      "metadata": {
        "id": "_bnE6TutD4I2"
      },
      "source": [
        "submission_min_time = submissions_data.groupby('user_id', as_index=False) \\\n",
        "        .agg({'timestamp': 'min'}).rename({'timestamp': 'min_timestamp'}, axis=1)\n",
        "user_submissions = submissions_data.merge(submission_min_time[['user_id', 'min_timestamp']], on='user_id', how='outer')\n",
        "submissions_data_train = user_submissions[user_submissions.timestamp <= (user_submissions.min_timestamp + learning_time_treshold)]"
      ],
      "execution_count": 31,
      "outputs": []
    },
    {
      "cell_type": "code",
      "metadata": {
        "colab": {
          "base_uri": "https://localhost:8080/",
          "height": 204
        },
        "id": "TpNOj2uTD4I3",
        "outputId": "0d84b224-c686-4421-beaa-5e0ba77ccd46"
      },
      "source": [
        "submissions_data_train.head()"
      ],
      "execution_count": 32,
      "outputs": [
        {
          "output_type": "execute_result",
          "data": {
            "text/html": [
              "<div>\n",
              "<style scoped>\n",
              "    .dataframe tbody tr th:only-of-type {\n",
              "        vertical-align: middle;\n",
              "    }\n",
              "\n",
              "    .dataframe tbody tr th {\n",
              "        vertical-align: top;\n",
              "    }\n",
              "\n",
              "    .dataframe thead th {\n",
              "        text-align: right;\n",
              "    }\n",
              "</style>\n",
              "<table border=\"1\" class=\"dataframe\">\n",
              "  <thead>\n",
              "    <tr style=\"text-align: right;\">\n",
              "      <th></th>\n",
              "      <th>step_id</th>\n",
              "      <th>timestamp</th>\n",
              "      <th>submission_status</th>\n",
              "      <th>user_id</th>\n",
              "      <th>date</th>\n",
              "      <th>day</th>\n",
              "      <th>min_timestamp</th>\n",
              "    </tr>\n",
              "  </thead>\n",
              "  <tbody>\n",
              "    <tr>\n",
              "      <th>0</th>\n",
              "      <td>31971</td>\n",
              "      <td>1434349275</td>\n",
              "      <td>correct</td>\n",
              "      <td>15853</td>\n",
              "      <td>2015-06-15 06:21:15</td>\n",
              "      <td>2015-06-15</td>\n",
              "      <td>1434346056</td>\n",
              "    </tr>\n",
              "    <tr>\n",
              "      <th>1</th>\n",
              "      <td>31972</td>\n",
              "      <td>1434348300</td>\n",
              "      <td>correct</td>\n",
              "      <td>15853</td>\n",
              "      <td>2015-06-15 06:05:00</td>\n",
              "      <td>2015-06-15</td>\n",
              "      <td>1434346056</td>\n",
              "    </tr>\n",
              "    <tr>\n",
              "      <th>4</th>\n",
              "      <td>31976</td>\n",
              "      <td>1434348123</td>\n",
              "      <td>wrong</td>\n",
              "      <td>15853</td>\n",
              "      <td>2015-06-15 06:02:03</td>\n",
              "      <td>2015-06-15</td>\n",
              "      <td>1434346056</td>\n",
              "    </tr>\n",
              "    <tr>\n",
              "      <th>5</th>\n",
              "      <td>31976</td>\n",
              "      <td>1434348188</td>\n",
              "      <td>correct</td>\n",
              "      <td>15853</td>\n",
              "      <td>2015-06-15 06:03:08</td>\n",
              "      <td>2015-06-15</td>\n",
              "      <td>1434346056</td>\n",
              "    </tr>\n",
              "    <tr>\n",
              "      <th>7</th>\n",
              "      <td>31977</td>\n",
              "      <td>1434347371</td>\n",
              "      <td>correct</td>\n",
              "      <td>15853</td>\n",
              "      <td>2015-06-15 05:49:31</td>\n",
              "      <td>2015-06-15</td>\n",
              "      <td>1434346056</td>\n",
              "    </tr>\n",
              "  </tbody>\n",
              "</table>\n",
              "</div>"
            ],
            "text/plain": [
              "   step_id   timestamp  ...         day  min_timestamp\n",
              "0    31971  1434349275  ...  2015-06-15     1434346056\n",
              "1    31972  1434348300  ...  2015-06-15     1434346056\n",
              "4    31976  1434348123  ...  2015-06-15     1434346056\n",
              "5    31976  1434348188  ...  2015-06-15     1434346056\n",
              "7    31977  1434347371  ...  2015-06-15     1434346056\n",
              "\n",
              "[5 rows x 7 columns]"
            ]
          },
          "metadata": {},
          "execution_count": 32
        }
      ]
    },
    {
      "cell_type": "code",
      "metadata": {
        "id": "x8xB_YDFD4I4"
      },
      "source": [
        "X = submissions_data_train.groupby('user_id').day.nunique().to_frame().reset_index()"
      ],
      "execution_count": 33,
      "outputs": []
    },
    {
      "cell_type": "code",
      "metadata": {
        "id": "U7jK8n4OD4I9"
      },
      "source": [
        "steps_tried = submissions_data_train.groupby('user_id').step_id.nunique().to_frame() \\\n",
        "        .reset_index().rename(columns={'step_id': 'steps_tried'})"
      ],
      "execution_count": 34,
      "outputs": []
    },
    {
      "cell_type": "code",
      "metadata": {
        "id": "kCLhsXeUD4JA"
      },
      "source": [
        "X = X.merge(steps_tried, on='user_id', how='outer')"
      ],
      "execution_count": 35,
      "outputs": []
    },
    {
      "cell_type": "code",
      "metadata": {
        "id": "ZCQez1O0D4JF"
      },
      "source": [
        "X = X.merge(submissions_data_train.pivot_table(index='user_id', \n",
        "                                   columns='submission_status', \n",
        "                                   values='step_id', \n",
        "                                   aggfunc='count', \n",
        "                                   fill_value=0).reset_index())"
      ],
      "execution_count": 36,
      "outputs": []
    },
    {
      "cell_type": "code",
      "metadata": {
        "colab": {
          "base_uri": "https://localhost:8080/",
          "height": 204
        },
        "id": "KQrVJxeAD4JJ",
        "outputId": "cfcd42a3-06fc-4b04-caa1-aae649adfbcc"
      },
      "source": [
        "X['correct_ratio'] = X.correct / (X.correct + X.wrong)\n",
        "X.head()"
      ],
      "execution_count": 37,
      "outputs": [
        {
          "output_type": "execute_result",
          "data": {
            "text/html": [
              "<div>\n",
              "<style scoped>\n",
              "    .dataframe tbody tr th:only-of-type {\n",
              "        vertical-align: middle;\n",
              "    }\n",
              "\n",
              "    .dataframe tbody tr th {\n",
              "        vertical-align: top;\n",
              "    }\n",
              "\n",
              "    .dataframe thead th {\n",
              "        text-align: right;\n",
              "    }\n",
              "</style>\n",
              "<table border=\"1\" class=\"dataframe\">\n",
              "  <thead>\n",
              "    <tr style=\"text-align: right;\">\n",
              "      <th></th>\n",
              "      <th>user_id</th>\n",
              "      <th>day</th>\n",
              "      <th>steps_tried</th>\n",
              "      <th>correct</th>\n",
              "      <th>wrong</th>\n",
              "      <th>correct_ratio</th>\n",
              "    </tr>\n",
              "  </thead>\n",
              "  <tbody>\n",
              "    <tr>\n",
              "      <th>0</th>\n",
              "      <td>2</td>\n",
              "      <td>1</td>\n",
              "      <td>2</td>\n",
              "      <td>2</td>\n",
              "      <td>0</td>\n",
              "      <td>1.0</td>\n",
              "    </tr>\n",
              "    <tr>\n",
              "      <th>1</th>\n",
              "      <td>3</td>\n",
              "      <td>1</td>\n",
              "      <td>4</td>\n",
              "      <td>4</td>\n",
              "      <td>4</td>\n",
              "      <td>0.5</td>\n",
              "    </tr>\n",
              "    <tr>\n",
              "      <th>2</th>\n",
              "      <td>5</td>\n",
              "      <td>1</td>\n",
              "      <td>2</td>\n",
              "      <td>2</td>\n",
              "      <td>2</td>\n",
              "      <td>0.5</td>\n",
              "    </tr>\n",
              "    <tr>\n",
              "      <th>3</th>\n",
              "      <td>8</td>\n",
              "      <td>1</td>\n",
              "      <td>11</td>\n",
              "      <td>9</td>\n",
              "      <td>21</td>\n",
              "      <td>0.3</td>\n",
              "    </tr>\n",
              "    <tr>\n",
              "      <th>4</th>\n",
              "      <td>14</td>\n",
              "      <td>1</td>\n",
              "      <td>1</td>\n",
              "      <td>0</td>\n",
              "      <td>1</td>\n",
              "      <td>0.0</td>\n",
              "    </tr>\n",
              "  </tbody>\n",
              "</table>\n",
              "</div>"
            ],
            "text/plain": [
              "   user_id  day  steps_tried  correct  wrong  correct_ratio\n",
              "0        2    1            2        2      0            1.0\n",
              "1        3    1            4        4      4            0.5\n",
              "2        5    1            2        2      2            0.5\n",
              "3        8    1           11        9     21            0.3\n",
              "4       14    1            1        0      1            0.0"
            ]
          },
          "metadata": {},
          "execution_count": 37
        }
      ]
    },
    {
      "cell_type": "code",
      "metadata": {
        "id": "J2uEMCS-D4JK"
      },
      "source": [
        "X = X.merge(events_data_train.pivot_table(index='user_id',\n",
        "                                          columns='action',\n",
        "                                          values='step_id',\n",
        "                                          aggfunc='count',\n",
        "                                          fill_value=0).reset_index()[['user_id', 'viewed']], how='outer')"
      ],
      "execution_count": 38,
      "outputs": []
    },
    {
      "cell_type": "code",
      "metadata": {
        "id": "vIQCHWD7D4JL"
      },
      "source": [
        "X = X.fillna(0)"
      ],
      "execution_count": 39,
      "outputs": []
    },
    {
      "cell_type": "code",
      "metadata": {
        "id": "R-nuvmtYD4JM"
      },
      "source": [
        "X = X.merge(users_data[['user_id', 'passed_course', 'is_gone_user']], how='outer')"
      ],
      "execution_count": 40,
      "outputs": []
    },
    {
      "cell_type": "code",
      "metadata": {
        "colab": {
          "base_uri": "https://localhost:8080/",
          "height": 204
        },
        "id": "Q9aSf5zXD4JM",
        "outputId": "7fb0c05e-062d-40d6-cbaf-5505429645b9"
      },
      "source": [
        "X.head()"
      ],
      "execution_count": 41,
      "outputs": [
        {
          "output_type": "execute_result",
          "data": {
            "text/html": [
              "<div>\n",
              "<style scoped>\n",
              "    .dataframe tbody tr th:only-of-type {\n",
              "        vertical-align: middle;\n",
              "    }\n",
              "\n",
              "    .dataframe tbody tr th {\n",
              "        vertical-align: top;\n",
              "    }\n",
              "\n",
              "    .dataframe thead th {\n",
              "        text-align: right;\n",
              "    }\n",
              "</style>\n",
              "<table border=\"1\" class=\"dataframe\">\n",
              "  <thead>\n",
              "    <tr style=\"text-align: right;\">\n",
              "      <th></th>\n",
              "      <th>user_id</th>\n",
              "      <th>day</th>\n",
              "      <th>steps_tried</th>\n",
              "      <th>correct</th>\n",
              "      <th>wrong</th>\n",
              "      <th>correct_ratio</th>\n",
              "      <th>viewed</th>\n",
              "      <th>passed_course</th>\n",
              "      <th>is_gone_user</th>\n",
              "    </tr>\n",
              "  </thead>\n",
              "  <tbody>\n",
              "    <tr>\n",
              "      <th>0</th>\n",
              "      <td>2</td>\n",
              "      <td>1.0</td>\n",
              "      <td>2.0</td>\n",
              "      <td>2.0</td>\n",
              "      <td>0.0</td>\n",
              "      <td>1.0</td>\n",
              "      <td>9</td>\n",
              "      <td>False</td>\n",
              "      <td>True</td>\n",
              "    </tr>\n",
              "    <tr>\n",
              "      <th>1</th>\n",
              "      <td>3</td>\n",
              "      <td>1.0</td>\n",
              "      <td>4.0</td>\n",
              "      <td>4.0</td>\n",
              "      <td>4.0</td>\n",
              "      <td>0.5</td>\n",
              "      <td>20</td>\n",
              "      <td>False</td>\n",
              "      <td>True</td>\n",
              "    </tr>\n",
              "    <tr>\n",
              "      <th>2</th>\n",
              "      <td>5</td>\n",
              "      <td>1.0</td>\n",
              "      <td>2.0</td>\n",
              "      <td>2.0</td>\n",
              "      <td>2.0</td>\n",
              "      <td>0.5</td>\n",
              "      <td>1</td>\n",
              "      <td>False</td>\n",
              "      <td>True</td>\n",
              "    </tr>\n",
              "    <tr>\n",
              "      <th>3</th>\n",
              "      <td>8</td>\n",
              "      <td>1.0</td>\n",
              "      <td>11.0</td>\n",
              "      <td>9.0</td>\n",
              "      <td>21.0</td>\n",
              "      <td>0.3</td>\n",
              "      <td>154</td>\n",
              "      <td>False</td>\n",
              "      <td>True</td>\n",
              "    </tr>\n",
              "    <tr>\n",
              "      <th>4</th>\n",
              "      <td>14</td>\n",
              "      <td>1.0</td>\n",
              "      <td>1.0</td>\n",
              "      <td>0.0</td>\n",
              "      <td>1.0</td>\n",
              "      <td>0.0</td>\n",
              "      <td>9</td>\n",
              "      <td>False</td>\n",
              "      <td>True</td>\n",
              "    </tr>\n",
              "  </tbody>\n",
              "</table>\n",
              "</div>"
            ],
            "text/plain": [
              "   user_id  day  steps_tried  ...  viewed  passed_course  is_gone_user\n",
              "0        2  1.0          2.0  ...       9          False          True\n",
              "1        3  1.0          4.0  ...      20          False          True\n",
              "2        5  1.0          2.0  ...       1          False          True\n",
              "3        8  1.0         11.0  ...     154          False          True\n",
              "4       14  1.0          1.0  ...       9          False          True\n",
              "\n",
              "[5 rows x 9 columns]"
            ]
          },
          "metadata": {},
          "execution_count": 41
        }
      ]
    },
    {
      "cell_type": "code",
      "metadata": {
        "id": "Z-GaZQd2D4JN"
      },
      "source": [
        "X = X[(X.is_gone_user) | (X.passed_course)]"
      ],
      "execution_count": 42,
      "outputs": []
    },
    {
      "cell_type": "code",
      "metadata": {
        "colab": {
          "base_uri": "https://localhost:8080/",
          "height": 204
        },
        "id": "UHLfDf2gD4JO",
        "outputId": "8047e59b-b53d-451d-f91b-d0dc10d681a2"
      },
      "source": [
        "X.head()"
      ],
      "execution_count": 43,
      "outputs": [
        {
          "output_type": "execute_result",
          "data": {
            "text/html": [
              "<div>\n",
              "<style scoped>\n",
              "    .dataframe tbody tr th:only-of-type {\n",
              "        vertical-align: middle;\n",
              "    }\n",
              "\n",
              "    .dataframe tbody tr th {\n",
              "        vertical-align: top;\n",
              "    }\n",
              "\n",
              "    .dataframe thead th {\n",
              "        text-align: right;\n",
              "    }\n",
              "</style>\n",
              "<table border=\"1\" class=\"dataframe\">\n",
              "  <thead>\n",
              "    <tr style=\"text-align: right;\">\n",
              "      <th></th>\n",
              "      <th>user_id</th>\n",
              "      <th>day</th>\n",
              "      <th>steps_tried</th>\n",
              "      <th>correct</th>\n",
              "      <th>wrong</th>\n",
              "      <th>correct_ratio</th>\n",
              "      <th>viewed</th>\n",
              "      <th>passed_course</th>\n",
              "      <th>is_gone_user</th>\n",
              "    </tr>\n",
              "  </thead>\n",
              "  <tbody>\n",
              "    <tr>\n",
              "      <th>0</th>\n",
              "      <td>2</td>\n",
              "      <td>1.0</td>\n",
              "      <td>2.0</td>\n",
              "      <td>2.0</td>\n",
              "      <td>0.0</td>\n",
              "      <td>1.0</td>\n",
              "      <td>9</td>\n",
              "      <td>False</td>\n",
              "      <td>True</td>\n",
              "    </tr>\n",
              "    <tr>\n",
              "      <th>1</th>\n",
              "      <td>3</td>\n",
              "      <td>1.0</td>\n",
              "      <td>4.0</td>\n",
              "      <td>4.0</td>\n",
              "      <td>4.0</td>\n",
              "      <td>0.5</td>\n",
              "      <td>20</td>\n",
              "      <td>False</td>\n",
              "      <td>True</td>\n",
              "    </tr>\n",
              "    <tr>\n",
              "      <th>2</th>\n",
              "      <td>5</td>\n",
              "      <td>1.0</td>\n",
              "      <td>2.0</td>\n",
              "      <td>2.0</td>\n",
              "      <td>2.0</td>\n",
              "      <td>0.5</td>\n",
              "      <td>1</td>\n",
              "      <td>False</td>\n",
              "      <td>True</td>\n",
              "    </tr>\n",
              "    <tr>\n",
              "      <th>3</th>\n",
              "      <td>8</td>\n",
              "      <td>1.0</td>\n",
              "      <td>11.0</td>\n",
              "      <td>9.0</td>\n",
              "      <td>21.0</td>\n",
              "      <td>0.3</td>\n",
              "      <td>154</td>\n",
              "      <td>False</td>\n",
              "      <td>True</td>\n",
              "    </tr>\n",
              "    <tr>\n",
              "      <th>4</th>\n",
              "      <td>14</td>\n",
              "      <td>1.0</td>\n",
              "      <td>1.0</td>\n",
              "      <td>0.0</td>\n",
              "      <td>1.0</td>\n",
              "      <td>0.0</td>\n",
              "      <td>9</td>\n",
              "      <td>False</td>\n",
              "      <td>True</td>\n",
              "    </tr>\n",
              "  </tbody>\n",
              "</table>\n",
              "</div>"
            ],
            "text/plain": [
              "   user_id  day  steps_tried  ...  viewed  passed_course  is_gone_user\n",
              "0        2  1.0          2.0  ...       9          False          True\n",
              "1        3  1.0          4.0  ...      20          False          True\n",
              "2        5  1.0          2.0  ...       1          False          True\n",
              "3        8  1.0         11.0  ...     154          False          True\n",
              "4       14  1.0          1.0  ...       9          False          True\n",
              "\n",
              "[5 rows x 9 columns]"
            ]
          },
          "metadata": {},
          "execution_count": 43
        }
      ]
    },
    {
      "cell_type": "code",
      "metadata": {
        "id": "vb8mQWAPD4JQ"
      },
      "source": [
        "y = X.passed_course.map(int)"
      ],
      "execution_count": 44,
      "outputs": []
    },
    {
      "cell_type": "code",
      "metadata": {
        "id": "tgjYgscmD4JQ"
      },
      "source": [
        "X = X.drop(['passed_course', 'is_gone_user'], axis=1)"
      ],
      "execution_count": 45,
      "outputs": []
    },
    {
      "cell_type": "code",
      "metadata": {
        "id": "_SFqH4fND4JR"
      },
      "source": [
        "X = X.set_index('user_id')"
      ],
      "execution_count": 46,
      "outputs": []
    },
    {
      "cell_type": "code",
      "metadata": {
        "colab": {
          "base_uri": "https://localhost:8080/",
          "height": 235
        },
        "id": "voBlNltSD4JS",
        "outputId": "30f5b455-8e2e-43f2-c46f-861da1262afa"
      },
      "source": [
        "X.head()"
      ],
      "execution_count": 47,
      "outputs": [
        {
          "output_type": "execute_result",
          "data": {
            "text/html": [
              "<div>\n",
              "<style scoped>\n",
              "    .dataframe tbody tr th:only-of-type {\n",
              "        vertical-align: middle;\n",
              "    }\n",
              "\n",
              "    .dataframe tbody tr th {\n",
              "        vertical-align: top;\n",
              "    }\n",
              "\n",
              "    .dataframe thead th {\n",
              "        text-align: right;\n",
              "    }\n",
              "</style>\n",
              "<table border=\"1\" class=\"dataframe\">\n",
              "  <thead>\n",
              "    <tr style=\"text-align: right;\">\n",
              "      <th></th>\n",
              "      <th>day</th>\n",
              "      <th>steps_tried</th>\n",
              "      <th>correct</th>\n",
              "      <th>wrong</th>\n",
              "      <th>correct_ratio</th>\n",
              "      <th>viewed</th>\n",
              "    </tr>\n",
              "    <tr>\n",
              "      <th>user_id</th>\n",
              "      <th></th>\n",
              "      <th></th>\n",
              "      <th></th>\n",
              "      <th></th>\n",
              "      <th></th>\n",
              "      <th></th>\n",
              "    </tr>\n",
              "  </thead>\n",
              "  <tbody>\n",
              "    <tr>\n",
              "      <th>2</th>\n",
              "      <td>1.0</td>\n",
              "      <td>2.0</td>\n",
              "      <td>2.0</td>\n",
              "      <td>0.0</td>\n",
              "      <td>1.0</td>\n",
              "      <td>9</td>\n",
              "    </tr>\n",
              "    <tr>\n",
              "      <th>3</th>\n",
              "      <td>1.0</td>\n",
              "      <td>4.0</td>\n",
              "      <td>4.0</td>\n",
              "      <td>4.0</td>\n",
              "      <td>0.5</td>\n",
              "      <td>20</td>\n",
              "    </tr>\n",
              "    <tr>\n",
              "      <th>5</th>\n",
              "      <td>1.0</td>\n",
              "      <td>2.0</td>\n",
              "      <td>2.0</td>\n",
              "      <td>2.0</td>\n",
              "      <td>0.5</td>\n",
              "      <td>1</td>\n",
              "    </tr>\n",
              "    <tr>\n",
              "      <th>8</th>\n",
              "      <td>1.0</td>\n",
              "      <td>11.0</td>\n",
              "      <td>9.0</td>\n",
              "      <td>21.0</td>\n",
              "      <td>0.3</td>\n",
              "      <td>154</td>\n",
              "    </tr>\n",
              "    <tr>\n",
              "      <th>14</th>\n",
              "      <td>1.0</td>\n",
              "      <td>1.0</td>\n",
              "      <td>0.0</td>\n",
              "      <td>1.0</td>\n",
              "      <td>0.0</td>\n",
              "      <td>9</td>\n",
              "    </tr>\n",
              "  </tbody>\n",
              "</table>\n",
              "</div>"
            ],
            "text/plain": [
              "         day  steps_tried  correct  wrong  correct_ratio  viewed\n",
              "user_id                                                         \n",
              "2        1.0          2.0      2.0    0.0            1.0       9\n",
              "3        1.0          4.0      4.0    4.0            0.5      20\n",
              "5        1.0          2.0      2.0    2.0            0.5       1\n",
              "8        1.0         11.0      9.0   21.0            0.3     154\n",
              "14       1.0          1.0      0.0    1.0            0.0       9"
            ]
          },
          "metadata": {},
          "execution_count": 47
        }
      ]
    },
    {
      "cell_type": "code",
      "metadata": {
        "id": "M6wOZ4t2D4JS"
      },
      "source": [
        "from sklearn.model_selection import train_test_split\n",
        "X_train, X_test, y_train, y_test = train_test_split(X, y, test_size=0.33)"
      ],
      "execution_count": 48,
      "outputs": []
    },
    {
      "cell_type": "code",
      "metadata": {
        "id": "H227Z0ekD4JT"
      },
      "source": [
        "from sklearn.ensemble import RandomForestClassifier\n",
        "from sklearn.model_selection import train_test_split, GridSearchCV"
      ],
      "execution_count": 49,
      "outputs": []
    },
    {
      "cell_type": "code",
      "metadata": {
        "id": "rQGF3GGPD4JT"
      },
      "source": [
        "clf = RandomForestClassifier()"
      ],
      "execution_count": 50,
      "outputs": []
    },
    {
      "cell_type": "code",
      "metadata": {
        "id": "1rj0M8V7D4JT"
      },
      "source": [
        "parametrs = {'n_estimators':range(1, 51), 'max_depth':range(1, 51)}"
      ],
      "execution_count": 51,
      "outputs": []
    },
    {
      "cell_type": "code",
      "metadata": {
        "id": "HmNELLrOD4JU"
      },
      "source": [
        "grid_search_cv_clf = GridSearchCV(clf, parametrs, cv=5)"
      ],
      "execution_count": 52,
      "outputs": []
    },
    {
      "cell_type": "code",
      "metadata": {
        "colab": {
          "base_uri": "https://localhost:8080/"
        },
        "id": "fzKbylBND4JV",
        "outputId": "1e2a367d-324e-4ed6-eace-c19d15b9e87b"
      },
      "source": [
        "grid_search_cv_clf.fit(X_train, y_train)"
      ],
      "execution_count": 53,
      "outputs": [
        {
          "output_type": "execute_result",
          "data": {
            "text/plain": [
              "GridSearchCV(cv=5, error_score=nan,\n",
              "             estimator=RandomForestClassifier(bootstrap=True, ccp_alpha=0.0,\n",
              "                                              class_weight=None,\n",
              "                                              criterion='gini', max_depth=None,\n",
              "                                              max_features='auto',\n",
              "                                              max_leaf_nodes=None,\n",
              "                                              max_samples=None,\n",
              "                                              min_impurity_decrease=0.0,\n",
              "                                              min_impurity_split=None,\n",
              "                                              min_samples_leaf=1,\n",
              "                                              min_samples_split=2,\n",
              "                                              min_weight_fraction_leaf=0.0,\n",
              "                                              n_estimators=100, n_jobs=None,\n",
              "                                              oob_score=False,\n",
              "                                              random_state=None, verbose=0,\n",
              "                                              warm_start=False),\n",
              "             iid='deprecated', n_jobs=None,\n",
              "             param_grid={'max_depth': range(1, 51),\n",
              "                         'n_estimators': range(1, 51)},\n",
              "             pre_dispatch='2*n_jobs', refit=True, return_train_score=False,\n",
              "             scoring=None, verbose=0)"
            ]
          },
          "metadata": {},
          "execution_count": 53
        }
      ]
    },
    {
      "cell_type": "code",
      "metadata": {
        "colab": {
          "base_uri": "https://localhost:8080/"
        },
        "id": "sxHu8nzdD4JV",
        "outputId": "a723fbfe-57c2-412c-d0d2-b4585292446f"
      },
      "source": [
        "grid_search_cv_clf.best_params_"
      ],
      "execution_count": 54,
      "outputs": [
        {
          "output_type": "execute_result",
          "data": {
            "text/plain": [
              "{'max_depth': 4, 'n_estimators': 5}"
            ]
          },
          "metadata": {},
          "execution_count": 54
        }
      ]
    },
    {
      "cell_type": "code",
      "metadata": {
        "id": "SfWKyIPYD4JW"
      },
      "source": [
        "best_clf = grid_search_cv_clf.best_estimator_"
      ],
      "execution_count": 55,
      "outputs": []
    },
    {
      "cell_type": "code",
      "metadata": {
        "colab": {
          "base_uri": "https://localhost:8080/"
        },
        "id": "FJFo3CHWD4JW",
        "outputId": "7b4273d2-e12f-4e08-c205-ec600e57924f"
      },
      "source": [
        "best_clf.score(X_test, y_test)"
      ],
      "execution_count": 56,
      "outputs": [
        {
          "output_type": "execute_result",
          "data": {
            "text/plain": [
              "0.9273921832884097"
            ]
          },
          "metadata": {},
          "execution_count": 56
        }
      ]
    },
    {
      "cell_type": "code",
      "metadata": {
        "id": "1kugimkoD4JX"
      },
      "source": [
        "feature_importances = best_clf.feature_importances_"
      ],
      "execution_count": 57,
      "outputs": []
    },
    {
      "cell_type": "code",
      "metadata": {
        "id": "GjxTypEvD4JY"
      },
      "source": [
        "feature_importances_df = pd.DataFrame({'feature':list(X_train),\n",
        "                                       'feature_importances':feature_importances})"
      ],
      "execution_count": 58,
      "outputs": []
    },
    {
      "cell_type": "code",
      "metadata": {
        "colab": {
          "base_uri": "https://localhost:8080/",
          "height": 235
        },
        "id": "VeNi6pVeD4JY",
        "outputId": "33eea46c-653d-4810-aac5-0965d74cbd1c"
      },
      "source": [
        "feature_importances_df"
      ],
      "execution_count": 59,
      "outputs": [
        {
          "output_type": "execute_result",
          "data": {
            "text/html": [
              "<div>\n",
              "<style scoped>\n",
              "    .dataframe tbody tr th:only-of-type {\n",
              "        vertical-align: middle;\n",
              "    }\n",
              "\n",
              "    .dataframe tbody tr th {\n",
              "        vertical-align: top;\n",
              "    }\n",
              "\n",
              "    .dataframe thead th {\n",
              "        text-align: right;\n",
              "    }\n",
              "</style>\n",
              "<table border=\"1\" class=\"dataframe\">\n",
              "  <thead>\n",
              "    <tr style=\"text-align: right;\">\n",
              "      <th></th>\n",
              "      <th>feature</th>\n",
              "      <th>feature_importances</th>\n",
              "    </tr>\n",
              "  </thead>\n",
              "  <tbody>\n",
              "    <tr>\n",
              "      <th>0</th>\n",
              "      <td>day</td>\n",
              "      <td>0.285682</td>\n",
              "    </tr>\n",
              "    <tr>\n",
              "      <th>1</th>\n",
              "      <td>steps_tried</td>\n",
              "      <td>0.417363</td>\n",
              "    </tr>\n",
              "    <tr>\n",
              "      <th>2</th>\n",
              "      <td>correct</td>\n",
              "      <td>0.184551</td>\n",
              "    </tr>\n",
              "    <tr>\n",
              "      <th>3</th>\n",
              "      <td>wrong</td>\n",
              "      <td>0.010242</td>\n",
              "    </tr>\n",
              "    <tr>\n",
              "      <th>4</th>\n",
              "      <td>correct_ratio</td>\n",
              "      <td>0.074412</td>\n",
              "    </tr>\n",
              "    <tr>\n",
              "      <th>5</th>\n",
              "      <td>viewed</td>\n",
              "      <td>0.027751</td>\n",
              "    </tr>\n",
              "  </tbody>\n",
              "</table>\n",
              "</div>"
            ],
            "text/plain": [
              "         feature  feature_importances\n",
              "0            day             0.285682\n",
              "1    steps_tried             0.417363\n",
              "2        correct             0.184551\n",
              "3          wrong             0.010242\n",
              "4  correct_ratio             0.074412\n",
              "5         viewed             0.027751"
            ]
          },
          "metadata": {},
          "execution_count": 59
        }
      ]
    },
    {
      "cell_type": "code",
      "metadata": {
        "colab": {
          "base_uri": "https://localhost:8080/",
          "height": 235
        },
        "id": "MQfDQPaFD4JZ",
        "outputId": "e5620499-9c8d-4d70-9ab3-78f0176d7a36"
      },
      "source": [
        "feature_importances_df.sort_values('feature_importances', ascending=False)"
      ],
      "execution_count": 60,
      "outputs": [
        {
          "output_type": "execute_result",
          "data": {
            "text/html": [
              "<div>\n",
              "<style scoped>\n",
              "    .dataframe tbody tr th:only-of-type {\n",
              "        vertical-align: middle;\n",
              "    }\n",
              "\n",
              "    .dataframe tbody tr th {\n",
              "        vertical-align: top;\n",
              "    }\n",
              "\n",
              "    .dataframe thead th {\n",
              "        text-align: right;\n",
              "    }\n",
              "</style>\n",
              "<table border=\"1\" class=\"dataframe\">\n",
              "  <thead>\n",
              "    <tr style=\"text-align: right;\">\n",
              "      <th></th>\n",
              "      <th>feature</th>\n",
              "      <th>feature_importances</th>\n",
              "    </tr>\n",
              "  </thead>\n",
              "  <tbody>\n",
              "    <tr>\n",
              "      <th>1</th>\n",
              "      <td>steps_tried</td>\n",
              "      <td>0.417363</td>\n",
              "    </tr>\n",
              "    <tr>\n",
              "      <th>0</th>\n",
              "      <td>day</td>\n",
              "      <td>0.285682</td>\n",
              "    </tr>\n",
              "    <tr>\n",
              "      <th>2</th>\n",
              "      <td>correct</td>\n",
              "      <td>0.184551</td>\n",
              "    </tr>\n",
              "    <tr>\n",
              "      <th>4</th>\n",
              "      <td>correct_ratio</td>\n",
              "      <td>0.074412</td>\n",
              "    </tr>\n",
              "    <tr>\n",
              "      <th>5</th>\n",
              "      <td>viewed</td>\n",
              "      <td>0.027751</td>\n",
              "    </tr>\n",
              "    <tr>\n",
              "      <th>3</th>\n",
              "      <td>wrong</td>\n",
              "      <td>0.010242</td>\n",
              "    </tr>\n",
              "  </tbody>\n",
              "</table>\n",
              "</div>"
            ],
            "text/plain": [
              "         feature  feature_importances\n",
              "1    steps_tried             0.417363\n",
              "0            day             0.285682\n",
              "2        correct             0.184551\n",
              "4  correct_ratio             0.074412\n",
              "5         viewed             0.027751\n",
              "3          wrong             0.010242"
            ]
          },
          "metadata": {},
          "execution_count": 60
        }
      ]
    },
    {
      "cell_type": "code",
      "metadata": {
        "id": "SBhlKMNPD4JZ"
      },
      "source": [
        ""
      ],
      "execution_count": 60,
      "outputs": []
    },
    {
      "cell_type": "code",
      "metadata": {
        "id": "Wps6Vad7D4JZ"
      },
      "source": [
        ""
      ],
      "execution_count": null,
      "outputs": []
    }
  ]
}